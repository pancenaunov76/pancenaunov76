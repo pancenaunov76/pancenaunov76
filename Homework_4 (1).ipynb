{
  "cells": [
    {
      "cell_type": "markdown",
      "metadata": {
        "id": "SqDh5BOz9lcf"
      },
      "source": [
        "# **Numpy Homework**"
      ]
    },
    {
      "cell_type": "markdown",
      "metadata": {
        "id": "i-3Eqhei9wal"
      },
      "source": [
        "Import numpy"
      ]
    },
    {
      "cell_type": "code",
      "execution_count": 2,
      "metadata": {
        "id": "i7rFAbwW9VoA"
      },
      "outputs": [],
      "source": [
        "import numpy as np"
      ]
    },
    {
      "cell_type": "markdown",
      "metadata": {
        "id": "LJy6DwNB9ytD"
      },
      "source": [
        "Create an array of 10 zeros (Креирај низа од 10 нули)"
      ]
    },
    {
      "cell_type": "code",
      "execution_count": 2,
      "metadata": {
        "id": "Pu2hg1qy94vV",
        "colab": {
          "base_uri": "https://localhost:8080/"
        },
        "outputId": "c3e1388a-bdd8-4862-f7fb-b36738e2036f"
      },
      "outputs": [
        {
          "output_type": "stream",
          "name": "stdout",
          "text": [
            "[0. 0. 0. 0. 0. 0. 0. 0. 0. 0.]\n"
          ]
        }
      ],
      "source": [
        "zer = np.zeros(10)\n",
        "print(zer)"
      ]
    },
    {
      "cell_type": "markdown",
      "metadata": {
        "id": "Lf4zNvW-95Ok"
      },
      "source": [
        "Create an array of 10 ones (Креирај низа од 10 единици)"
      ]
    },
    {
      "cell_type": "code",
      "execution_count": 3,
      "metadata": {
        "id": "YNe6CVGs9-AT",
        "colab": {
          "base_uri": "https://localhost:8080/"
        },
        "outputId": "16513572-e9d8-46f9-ccf2-756af928b47b"
      },
      "outputs": [
        {
          "output_type": "stream",
          "name": "stdout",
          "text": [
            "[1. 1. 1. 1. 1. 1. 1. 1. 1. 1.]\n"
          ]
        }
      ],
      "source": [
        "ones = np.ones(10)\n",
        "print(ones)"
      ]
    },
    {
      "cell_type": "markdown",
      "metadata": {
        "id": "3rxkaZHD9-cD"
      },
      "source": [
        "Create an array of 10 fives (Креирај низа од 10 петки)"
      ]
    },
    {
      "cell_type": "code",
      "execution_count": 4,
      "metadata": {
        "id": "G7dN6wqm-Dza",
        "colab": {
          "base_uri": "https://localhost:8080/"
        },
        "outputId": "e57c6162-d12b-4db2-9bec-393f054f0ae0"
      },
      "outputs": [
        {
          "output_type": "stream",
          "name": "stdout",
          "text": [
            "[5. 5. 5. 5. 5. 5. 5. 5. 5. 5.]\n"
          ]
        }
      ],
      "source": [
        "#nacin 1\n",
        "zer = np.zeros(10) +5\n",
        "print(zer)"
      ]
    },
    {
      "cell_type": "code",
      "execution_count": 5,
      "metadata": {
        "id": "D8ySKJf--haa",
        "colab": {
          "base_uri": "https://localhost:8080/"
        },
        "outputId": "a7e0b9ae-e69b-46bf-9d62-94e647a89439"
      },
      "outputs": [
        {
          "output_type": "stream",
          "name": "stdout",
          "text": [
            "[5. 5. 5. 5. 5. 5. 5. 5. 5. 5.]\n"
          ]
        }
      ],
      "source": [
        "#nacin 2\n",
        "ones = np.ones(10) * 5\n",
        "print(ones)"
      ]
    },
    {
      "cell_type": "markdown",
      "metadata": {
        "id": "1BkyN-1K-EHC"
      },
      "source": [
        "Create an array of the integers from 10 to 50 (Креирај низа со цели броеви од 10 до 50)"
      ]
    },
    {
      "cell_type": "code",
      "execution_count": 6,
      "metadata": {
        "id": "KGxOaVMx-K_v",
        "colab": {
          "base_uri": "https://localhost:8080/"
        },
        "outputId": "03e0403c-c542-4382-d735-46cc498506c4"
      },
      "outputs": [
        {
          "output_type": "stream",
          "name": "stdout",
          "text": [
            "[10 11 12 13 14 15 16 17 18 19 20 21 22 23 24 25 26 27 28 29 30 31 32 33\n",
            " 34 35 36 37 38 39 40 41 42 43 44 45 46 47 48 49 50]\n"
          ]
        }
      ],
      "source": [
        "arr = np.arange(10, 51)\n",
        "print(arr)"
      ]
    },
    {
      "cell_type": "markdown",
      "metadata": {
        "id": "HoOd9li6-LVi"
      },
      "source": [
        "Create an array of all the even integers from 10 to 50 (Креирај низа со цели парни броеви од 10 до 50)"
      ]
    },
    {
      "cell_type": "code",
      "execution_count": 7,
      "metadata": {
        "id": "NeNOTk4n-RTM",
        "colab": {
          "base_uri": "https://localhost:8080/"
        },
        "outputId": "0035145c-f883-472e-d505-83d806a4c1d7"
      },
      "outputs": [
        {
          "output_type": "stream",
          "name": "stdout",
          "text": [
            "[10 12 14 16 18 20 22 24 26 28 30 32 34 36 38 40 42 44 46 48 50]\n"
          ]
        }
      ],
      "source": [
        "evens = np.arange(10, 51, 2)\n",
        "print(evens)"
      ]
    },
    {
      "cell_type": "markdown",
      "metadata": {
        "id": "P1eY5vsu-XBa"
      },
      "source": [
        "Create a 3x3 matrix with values ranging from 0 to 8 (Креирај 3x3 матрица со вредности од 0 до 8)"
      ]
    },
    {
      "cell_type": "code",
      "execution_count": 9,
      "metadata": {
        "id": "5PI_nRyO-dGi",
        "colab": {
          "base_uri": "https://localhost:8080/"
        },
        "outputId": "ee1d0b2a-7e85-48e2-e969-95eed0390dc7"
      },
      "outputs": [
        {
          "output_type": "stream",
          "name": "stdout",
          "text": [
            "[[0 1 2]\n",
            " [3 4 5]\n",
            " [6 7 8]]\n"
          ]
        }
      ],
      "source": [
        "#nacin 1\n",
        "mx = np.arange(0,9).reshape(3, 3)\n",
        "print(mx)"
      ]
    },
    {
      "cell_type": "code",
      "execution_count": 12,
      "metadata": {
        "id": "TNqqoPPA-dEC",
        "colab": {
          "base_uri": "https://localhost:8080/"
        },
        "outputId": "ee3ca6ed-1143-4b7d-99b9-ac9d8ddf59f4"
      },
      "outputs": [
        {
          "output_type": "stream",
          "name": "stdout",
          "text": [
            "[[0 1 2]\n",
            " [3 4 5]\n",
            " [6 7 8]]\n"
          ]
        }
      ],
      "source": [
        "#nacin 2\n",
        "mx = np.array([[0, 1, 2], [3, 4, 5], [6, 7, 8]])\n",
        "print(mx)"
      ]
    },
    {
      "cell_type": "markdown",
      "metadata": {
        "id": "rwx5Txqt-cLy"
      },
      "source": [
        "Create a 3x3 identity matrix (Креирај 3x3 матрица на идентитет)"
      ]
    },
    {
      "cell_type": "code",
      "execution_count": 13,
      "metadata": {
        "id": "LWWdnB70-oh6",
        "colab": {
          "base_uri": "https://localhost:8080/"
        },
        "outputId": "8416def8-172f-4ce0-f9ad-9c32b93141da"
      },
      "outputs": [
        {
          "output_type": "stream",
          "name": "stdout",
          "text": [
            "[[1. 0. 0.]\n",
            " [0. 1. 0.]\n",
            " [0. 0. 1.]]\n"
          ]
        }
      ],
      "source": [
        "id = np.eye(3)\n",
        "print(id)"
      ]
    },
    {
      "cell_type": "markdown",
      "metadata": {
        "id": "7FH47vKb-o4p"
      },
      "source": [
        "Use NumPy to generate a random number between 0 and 1 (Со помош на numpy генерирај рандом број помеѓу 0 и 1)"
      ]
    },
    {
      "cell_type": "code",
      "execution_count": 14,
      "metadata": {
        "id": "PZ8BcEY7-zcG",
        "colab": {
          "base_uri": "https://localhost:8080/"
        },
        "outputId": "6b76231a-d506-41e2-975e-7bffd6da6e07"
      },
      "outputs": [
        {
          "output_type": "stream",
          "name": "stdout",
          "text": [
            "0.5724767938761453\n"
          ]
        }
      ],
      "source": [
        "num = np.random.random()\n",
        "print(num)"
      ]
    },
    {
      "cell_type": "markdown",
      "metadata": {
        "id": "jzlFgVrk-zv2"
      },
      "source": [
        "Use NumPy to generate an array of 25 random numbers (Со помош на numpy генерирај листа од 25 рандом броеви)"
      ]
    },
    {
      "cell_type": "code",
      "execution_count": 21,
      "metadata": {
        "id": "GjpAPmY2-8nE",
        "colab": {
          "base_uri": "https://localhost:8080/"
        },
        "outputId": "78490cec-c464-4eb1-9d66-7510182078d8"
      },
      "outputs": [
        {
          "output_type": "stream",
          "name": "stdout",
          "text": [
            "[ 1.90274374  0.74115436  0.41703572 -1.53287276  1.09546893  1.12266533\n",
            " -0.75950966  1.47288016  2.46927184 -0.27118448  1.28978447 -0.52759037\n",
            " -0.21110214 -0.56770728 -0.46579962  0.82115539 -1.62546971 -0.87118707\n",
            "  0.57751741  0.75079091 -0.52635833 -0.22233396 -0.73698782  0.18756661\n",
            " -0.71573691]\n"
          ]
        }
      ],
      "source": [
        "arr = np.random.randn(25)\n",
        "print(arr)"
      ]
    },
    {
      "cell_type": "markdown",
      "metadata": {
        "id": "qq6fCX97-84c"
      },
      "source": [
        "Create the following matrix: (Креирај ја следнава матрица)"
      ]
    },
    {
      "cell_type": "code",
      "execution_count": 15,
      "metadata": {
        "id": "eXi3qI1XBz75",
        "colab": {
          "base_uri": "https://localhost:8080/"
        },
        "outputId": "310709b9-df81-4ae1-926f-5e3c1f962ba8"
      },
      "outputs": [
        {
          "output_type": "stream",
          "name": "stdout",
          "text": [
            "[[50 50 50 50 50 50]\n",
            " [50 50 50 50 50 50]\n",
            " [50 50 50 50 50 50]\n",
            " [50 50 50 50 50 50]\n",
            " [50 50 50 50 50 50]\n",
            " [50 50 50 50 50 50]\n",
            " [50 50 50 50 50 50]\n",
            " [50 50 50 50 50 50]]\n",
            "\n",
            " [[50. 50. 50. 50. 50. 50.]\n",
            " [50. 50. 50. 50. 50. 50.]\n",
            " [50. 50. 50. 50. 50. 50.]\n",
            " [50. 50. 50. 50. 50. 50.]\n",
            " [50. 50. 50. 50. 50. 50.]\n",
            " [50. 50. 50. 50. 50. 50.]\n",
            " [50. 50. 50. 50. 50. 50.]\n",
            " [50. 50. 50. 50. 50. 50.]]\n"
          ]
        }
      ],
      "source": [
        "#pisuvajte go kodot vo ovaa kelija, za da ne go prebrisete resenieto vo slednata\n",
        "_50 = np.full((8, 6), 50)\n",
        "print(_50)\n",
        "\n",
        "#za sosema ist output:\n",
        "_50 = np.ones(48).reshape(8, 6) * 50\n",
        "print('\\n', _50)"
      ]
    },
    {
      "cell_type": "code",
      "execution_count": null,
      "metadata": {
        "colab": {
          "base_uri": "https://localhost:8080/"
        },
        "id": "n6U7pdOvBz1Q",
        "outputId": "875ea285-83d7-44ca-b6bd-15f9cdb15006"
      },
      "outputs": [
        {
          "name": "stdout",
          "output_type": "stream",
          "text": [
            "[[50. 50. 50. 50. 50. 50.]\n",
            " [50. 50. 50. 50. 50. 50.]\n",
            " [50. 50. 50. 50. 50. 50.]\n",
            " [50. 50. 50. 50. 50. 50.]\n",
            " [50. 50. 50. 50. 50. 50.]\n",
            " [50. 50. 50. 50. 50. 50.]\n",
            " [50. 50. 50. 50. 50. 50.]\n",
            " [50. 50. 50. 50. 50. 50.]]\n"
          ]
        }
      ],
      "source": []
    },
    {
      "cell_type": "code",
      "execution_count": 31,
      "metadata": {
        "id": "oqCk-Bt__ULn",
        "colab": {
          "base_uri": "https://localhost:8080/"
        },
        "outputId": "de37e6dc-29f9-48ef-a155-0f5bef2ca7d7"
      },
      "outputs": [
        {
          "output_type": "stream",
          "name": "stdout",
          "text": [
            "[[0.01 0.02 0.03 0.04 0.05 0.06 0.07 0.08 0.09 0.1 ]\n",
            " [0.11 0.12 0.13 0.14 0.15 0.16 0.17 0.18 0.19 0.2 ]\n",
            " [0.21 0.22 0.23 0.24 0.25 0.26 0.27 0.28 0.29 0.3 ]\n",
            " [0.31 0.32 0.33 0.34 0.35 0.36 0.37 0.38 0.39 0.4 ]\n",
            " [0.41 0.42 0.43 0.44 0.45 0.46 0.47 0.48 0.49 0.5 ]\n",
            " [0.51 0.52 0.53 0.54 0.55 0.56 0.57 0.58 0.59 0.6 ]\n",
            " [0.61 0.62 0.63 0.64 0.65 0.66 0.67 0.68 0.69 0.7 ]\n",
            " [0.71 0.72 0.73 0.74 0.75 0.76 0.77 0.78 0.79 0.8 ]\n",
            " [0.81 0.82 0.83 0.84 0.85 0.86 0.87 0.88 0.89 0.9 ]\n",
            " [0.91 0.92 0.93 0.94 0.95 0.96 0.97 0.98 0.99 1.  ]]\n"
          ]
        }
      ],
      "source": [
        "#pisuvajte go kodot vo ovaa kelija, za da ne go prebrisete resenieto vo slednata\n",
        "mx = np.arange(0.01, 1.01, 0.01).reshape(-1, 10)\n",
        "print(mx)"
      ]
    },
    {
      "cell_type": "code",
      "execution_count": null,
      "metadata": {
        "colab": {
          "base_uri": "https://localhost:8080/"
        },
        "id": "x0K_8yda--UL",
        "outputId": "20c6b886-522d-40b1-e344-b7b80cd8c021"
      },
      "outputs": [
        {
          "name": "stdout",
          "output_type": "stream",
          "text": [
            "[[0.01 0.02 0.03 0.04 0.05 0.06 0.07 0.08 0.09 0.1 ]\n",
            " [0.11 0.12 0.13 0.14 0.15 0.16 0.17 0.18 0.19 0.2 ]\n",
            " [0.21 0.22 0.23 0.24 0.25 0.26 0.27 0.28 0.29 0.3 ]\n",
            " [0.31 0.32 0.33 0.34 0.35 0.36 0.37 0.38 0.39 0.4 ]\n",
            " [0.41 0.42 0.43 0.44 0.45 0.46 0.47 0.48 0.49 0.5 ]\n",
            " [0.51 0.52 0.53 0.54 0.55 0.56 0.57 0.58 0.59 0.6 ]\n",
            " [0.61 0.62 0.63 0.64 0.65 0.66 0.67 0.68 0.69 0.7 ]\n",
            " [0.71 0.72 0.73 0.74 0.75 0.76 0.77 0.78 0.79 0.8 ]\n",
            " [0.81 0.82 0.83 0.84 0.85 0.86 0.87 0.88 0.89 0.9 ]\n",
            " [0.91 0.92 0.93 0.94 0.95 0.96 0.97 0.98 0.99 1.  ]]\n"
          ]
        }
      ],
      "source": []
    },
    {
      "cell_type": "markdown",
      "metadata": {
        "id": "uJPdzWcgA6TW"
      },
      "source": [
        "Fill the missing values (Дополнете ги вредностите кои фалат)"
      ]
    },
    {
      "cell_type": "code",
      "execution_count": 32,
      "metadata": {
        "id": "N4QI4VGdA6je",
        "colab": {
          "base_uri": "https://localhost:8080/"
        },
        "outputId": "d9565852-ca8e-4da5-b8fd-bf14821d4474"
      },
      "outputs": [
        {
          "output_type": "stream",
          "name": "stdout",
          "text": [
            "\n",
            "Prv element: 1\n",
            "Vtor element: 2\n",
            "Tret element: 3\n",
            "Tret element od pozadi: 8\n",
            "Vtor element od pozadi: 9\n",
            "Prv element od pozadi: 10\n"
          ]
        }
      ],
      "source": [
        "array = np.array([1, 2, 3, 4, 5, 6, 7, 8, 9, 10])\n",
        "\n",
        "prv_element = array[0]\n",
        "print(\"\\nPrv element:\", prv_element)\n",
        "vtor_element = array[1]\n",
        "print(\"Vtor element:\", vtor_element)\n",
        "tret_element = array[2]\n",
        "print(\"Tret element:\", tret_element)\n",
        "tret_element = array[-3]\n",
        "print(\"Tret element od pozadi:\", tret_element)\n",
        "vtor_element = array[-2]\n",
        "print(\"Vtor element od pozadi:\", vtor_element)\n",
        "prv_element = array[-1]\n",
        "print(\"Prv element od pozadi:\", prv_element)"
      ]
    },
    {
      "cell_type": "code",
      "execution_count": 33,
      "metadata": {
        "id": "ymAWVqcbBW57",
        "colab": {
          "base_uri": "https://localhost:8080/"
        },
        "outputId": "2b713713-914f-4e1b-f038-5667271c36a3"
      },
      "outputs": [
        {
          "output_type": "stream",
          "name": "stdout",
          "text": [
            "\n",
            "Red 1,Kolona 1: 1\n",
            "Red 1,Kolona 2: 2\n",
            "Red 2,Kolona 1: 4\n",
            "Red 2,Kolona 3: 6\n",
            "\n",
            "Red 1,Kolona 1: 1\n",
            "Red 1,Kolona 2: 2\n",
            "Red 2,Kolona 1: 4\n",
            "Red 2,Kolona 3: 6\n"
          ]
        }
      ],
      "source": [
        "array = np.array([[1, 2, 3], [4, 5, 6], [7, 8, 9], [10, 11, 12]])\n",
        "\n",
        "red1kolona1 = array[0][0]\n",
        "print(\"\\nRed 1,Kolona 1:\", red1kolona1)\n",
        "red1kolona2 = array[0][1]\n",
        "print(\"Red 1,Kolona 2:\", red1kolona2)\n",
        "red2kolona1 = array[1][0]\n",
        "print(\"Red 2,Kolona 1:\", red2kolona1)\n",
        "red2kolona3 = array[1][2]\n",
        "print(\"Red 2,Kolona 3:\", red2kolona3)\n",
        "#istite baranja no so negativni indeksi\n",
        "red1kolona1 = array[-4][-3]\n",
        "print(\"\\nRed 1,Kolona 1:\", red1kolona1)\n",
        "red1kolona2 = array[-4][-2]\n",
        "print(\"Red 1,Kolona 2:\", red1kolona2)\n",
        "red2kolona1 = array[-3][-3]\n",
        "print(\"Red 2,Kolona 1:\", red2kolona1)\n",
        "red2kolona3 = array[-3][-1]\n",
        "print(\"Red 2,Kolona 3:\", red2kolona3)"
      ]
    },
    {
      "cell_type": "code",
      "execution_count": 34,
      "metadata": {
        "id": "acDiWA61CQTl",
        "colab": {
          "base_uri": "https://localhost:8080/"
        },
        "outputId": "9383888a-0c79-43e3-979e-938917b043ac"
      },
      "outputs": [
        {
          "output_type": "stream",
          "name": "stdout",
          "text": [
            "Prvite 5 elementi se: [0 1 2 3 4]\n",
            "Poslednite 4 elementi se: [11 12 13 14]\n",
            "Prviot element e: 0\n",
            "Posledniot element e: 14\n",
            "Site elementi posle 3tiot se: [ 3  4  5  6  7  8  9 10 11 12 13 14]\n",
            "Subarray so elementite povegju 2 i 6 (so 6tiot): [2 3 4 5]\n",
            "Subarray so elementite povegju 2 i 6 (bez 6tiot): [2 3 4]\n",
            "Sekoj 2 element: [ 0  2  4  6  8 10 12 14]\n",
            "Sekoj 2 element pocnuvajki od 1: [ 1  3  5  7  9 11 13]\n",
            "Sekoj 3 element: [ 0  3  6  9 12]\n",
            "Elementite po obraten redosled: [14 13 12 11 10  9  8  7  6  5  4  3  2  1  0]\n",
            "Sekoj 2 element posle indeks 5 po obraten redosled: [5 3 1]\n"
          ]
        }
      ],
      "source": [
        "x = np.arange(15)\n",
        "\n",
        "print('Prvite 5 elementi se:', x[:5])\n",
        "print('Poslednite 4 elementi se:', x[-4:])\n",
        "print('Prviot element e:', x[0])\n",
        "print(\"Posledniot element e:\", x[-1])\n",
        "print('Site elementi posle 3tiot se:', x[3:])\n",
        "print('Subarray so elementite povegju 2 i 6 (so 6tiot):', x[2:6])\n",
        "print('Subarray so elementite povegju 2 i 6 (bez 6tiot):', x[2:5])\n",
        "print('Sekoj 2 element:', x[::2])\n",
        "print('Sekoj 2 element pocnuvajki od 1:', x[1::2])\n",
        "print('Sekoj 3 element:', x[::3])\n",
        "print('Elementite po obraten redosled:', x[::-1])\n",
        "print('Sekoj 2 element posle indeks 5 po obraten redosled:', x[5::-2])"
      ]
    },
    {
      "cell_type": "markdown",
      "metadata": {
        "id": "vD4HU2s3_Pin"
      },
      "source": [
        "Now you will be given a few matrices, and be asked to replicate the resulting matrix outputs: (Во следните неколку келии, ќе имате резултати од матрици, ќе треба да го напишете кодот за да ја добиете таа матрица)\n",
        "Секаде ќе бидат оставени по 2 келии, пишувајте во првата за да не го пребришете резултатот од втората"
      ]
    },
    {
      "cell_type": "markdown",
      "metadata": {
        "id": "fDK_N36e_3gI"
      },
      "source": [
        "1"
      ]
    },
    {
      "cell_type": "code",
      "execution_count": 37,
      "metadata": {
        "id": "38T9TQTL--rW",
        "colab": {
          "base_uri": "https://localhost:8080/"
        },
        "outputId": "2779f6a0-c105-4686-d196-2d8ef41ea519"
      },
      "outputs": [
        {
          "output_type": "stream",
          "name": "stdout",
          "text": [
            "[[ 1  2  3  4  5]\n",
            " [ 6  7  8  9 10]\n",
            " [11 12 13 14 15]\n",
            " [16 17 18 19 20]\n",
            " [21 22 23 24 25]]\n"
          ]
        }
      ],
      "source": [
        "mx = np.arange(1, 26).reshape(5, 5)\n",
        "print(mx)"
      ]
    },
    {
      "cell_type": "code",
      "execution_count": null,
      "metadata": {
        "colab": {
          "base_uri": "https://localhost:8080/"
        },
        "id": "VgQmbs1b_uqZ",
        "outputId": "a4c65178-29d9-417c-98b8-fce84020cab5"
      },
      "outputs": [
        {
          "name": "stdout",
          "output_type": "stream",
          "text": [
            "[[ 1  2  3  4  5]\n",
            " [ 6  7  8  9 10]\n",
            " [11 12 13 14 15]\n",
            " [16 17 18 19 20]\n",
            " [21 22 23 24 25]]\n"
          ]
        }
      ],
      "source": []
    },
    {
      "cell_type": "markdown",
      "metadata": {
        "id": "9YyZICEz_-_-"
      },
      "source": [
        "Преку првата матрица пресметајте ги следните барања"
      ]
    },
    {
      "cell_type": "markdown",
      "metadata": {
        "id": "LEayc8vf_4Zg"
      },
      "source": [
        "1.1"
      ]
    },
    {
      "cell_type": "code",
      "execution_count": 38,
      "metadata": {
        "id": "ufiDoA1l_vJy",
        "colab": {
          "base_uri": "https://localhost:8080/"
        },
        "outputId": "a9ce7689-9635-44ee-db2e-9065aa4dbfe1"
      },
      "outputs": [
        {
          "output_type": "stream",
          "name": "stdout",
          "text": [
            "[[12 13 14 15]\n",
            " [17 18 19 20]\n",
            " [22 23 24 25]]\n"
          ]
        }
      ],
      "source": [
        "b = mx[2:, 1:]\n",
        "print(b)"
      ]
    },
    {
      "cell_type": "code",
      "execution_count": null,
      "metadata": {
        "colab": {
          "base_uri": "https://localhost:8080/"
        },
        "id": "n4O9nFsu_5SA",
        "outputId": "157aa486-ebbb-421c-a511-9ce513de2339"
      },
      "outputs": [
        {
          "name": "stdout",
          "output_type": "stream",
          "text": [
            "[[12 13 14 15]\n",
            " [17 18 19 20]\n",
            " [22 23 24 25]]\n"
          ]
        }
      ],
      "source": []
    },
    {
      "cell_type": "markdown",
      "metadata": {
        "id": "N5k05ujtAF6N"
      },
      "source": [
        "1.2"
      ]
    },
    {
      "cell_type": "code",
      "execution_count": 39,
      "metadata": {
        "id": "Ahv53DGF_9OA",
        "colab": {
          "base_uri": "https://localhost:8080/"
        },
        "outputId": "770ced40-50bf-4140-d968-762fee67b5e1"
      },
      "outputs": [
        {
          "output_type": "stream",
          "name": "stdout",
          "text": [
            "20\n"
          ]
        }
      ],
      "source": [
        "print(mx[-2, -1])"
      ]
    },
    {
      "cell_type": "code",
      "execution_count": null,
      "metadata": {
        "colab": {
          "base_uri": "https://localhost:8080/"
        },
        "id": "tBFuBTu-AG5u",
        "outputId": "0234e8cb-22ee-4db6-e25c-7ac1203ecfde"
      },
      "outputs": [
        {
          "data": {
            "text/plain": [
              "20"
            ]
          },
          "execution_count": 10,
          "metadata": {},
          "output_type": "execute_result"
        }
      ],
      "source": []
    },
    {
      "cell_type": "markdown",
      "metadata": {
        "id": "bHWbqE_bAJVV"
      },
      "source": [
        "1.3"
      ]
    },
    {
      "cell_type": "code",
      "execution_count": 40,
      "metadata": {
        "id": "aOnD4bTnAIBv",
        "colab": {
          "base_uri": "https://localhost:8080/"
        },
        "outputId": "4e7efbef-7ddc-43b1-d17a-a77ea9f79bde"
      },
      "outputs": [
        {
          "output_type": "stream",
          "name": "stdout",
          "text": [
            "[[ 2]\n",
            " [ 7]\n",
            " [12]]\n"
          ]
        }
      ],
      "source": [
        "b = mx[:3, 1:2]\n",
        "print(b)"
      ]
    },
    {
      "cell_type": "code",
      "execution_count": null,
      "metadata": {
        "colab": {
          "base_uri": "https://localhost:8080/"
        },
        "id": "TSsVrAaCAKgQ",
        "outputId": "9b6d95a9-8565-4cc6-db1a-b6c1568b28b9"
      },
      "outputs": [
        {
          "name": "stdout",
          "output_type": "stream",
          "text": [
            "[[ 2]\n",
            " [ 7]\n",
            " [12]]\n"
          ]
        }
      ],
      "source": []
    },
    {
      "cell_type": "markdown",
      "metadata": {
        "id": "E9_lL6a6ANrt"
      },
      "source": [
        "1.4"
      ]
    },
    {
      "cell_type": "code",
      "execution_count": 41,
      "metadata": {
        "id": "LtLR2UpeAMHQ",
        "colab": {
          "base_uri": "https://localhost:8080/"
        },
        "outputId": "976188ba-e3fe-4ab4-9909-0564615c3e33"
      },
      "outputs": [
        {
          "output_type": "stream",
          "name": "stdout",
          "text": [
            "[21 22 23 24 25]\n"
          ]
        }
      ],
      "source": [
        "print(mx[-1, :])"
      ]
    },
    {
      "cell_type": "code",
      "execution_count": null,
      "metadata": {
        "colab": {
          "base_uri": "https://localhost:8080/"
        },
        "id": "Cx0a3wEQAO5U",
        "outputId": "34b4f4ab-fa62-4d90-82e7-dd2c1af5b892"
      },
      "outputs": [
        {
          "name": "stdout",
          "output_type": "stream",
          "text": [
            "[21 22 23 24 25]\n"
          ]
        }
      ],
      "source": []
    },
    {
      "cell_type": "markdown",
      "metadata": {
        "id": "NDO7PDLcAWPb"
      },
      "source": [
        "1.5"
      ]
    },
    {
      "cell_type": "code",
      "execution_count": 42,
      "metadata": {
        "id": "VrTvTblGAQ3D",
        "colab": {
          "base_uri": "https://localhost:8080/"
        },
        "outputId": "3a83401f-983c-4821-9f73-137dd340357d"
      },
      "outputs": [
        {
          "output_type": "stream",
          "name": "stdout",
          "text": [
            "[[16 17 18 19 20]\n",
            " [21 22 23 24 25]]\n"
          ]
        }
      ],
      "source": [
        "print(mx[-2:, :])"
      ]
    },
    {
      "cell_type": "code",
      "execution_count": null,
      "metadata": {
        "colab": {
          "base_uri": "https://localhost:8080/"
        },
        "id": "ageFsyVwAXZb",
        "outputId": "cf8740b8-3a00-4ad3-daf7-6a17bcd2e605"
      },
      "outputs": [
        {
          "name": "stdout",
          "output_type": "stream",
          "text": [
            "[[16 17 18 19 20]\n",
            " [21 22 23 24 25]]\n"
          ]
        }
      ],
      "source": []
    },
    {
      "cell_type": "markdown",
      "metadata": {
        "id": "6CUUpPTlAb8i"
      },
      "source": [
        "1.6 -> sum of all values (сума на сите елементи)"
      ]
    },
    {
      "cell_type": "code",
      "execution_count": 44,
      "metadata": {
        "id": "arFr6bB4AaWr",
        "colab": {
          "base_uri": "https://localhost:8080/"
        },
        "outputId": "ceeb3bfe-dc25-487b-b978-f3d24ec2d940"
      },
      "outputs": [
        {
          "output_type": "stream",
          "name": "stdout",
          "text": [
            "325\n"
          ]
        }
      ],
      "source": [
        "suma = np.sum(mx)\n",
        "print(suma)"
      ]
    },
    {
      "cell_type": "markdown",
      "metadata": {
        "id": "DUXjjoMjAgxJ"
      },
      "source": [
        "1.7 -> sum of all the columns (сума на сите колони)"
      ]
    },
    {
      "cell_type": "code",
      "execution_count": 43,
      "metadata": {
        "id": "QrJUjJjpArE4",
        "colab": {
          "base_uri": "https://localhost:8080/"
        },
        "outputId": "d2744eeb-6c2a-4c15-f9ea-afafeda46ad1"
      },
      "outputs": [
        {
          "output_type": "stream",
          "name": "stdout",
          "text": [
            "[55 60 65 70 75]\n"
          ]
        }
      ],
      "source": [
        "suma = np.sum(mx, axis = 0)\n",
        "print(suma)"
      ]
    },
    {
      "cell_type": "markdown",
      "metadata": {
        "id": "CwD2xchtDmN1"
      },
      "source": [
        "2"
      ]
    },
    {
      "cell_type": "code",
      "execution_count": 45,
      "metadata": {
        "id": "JBJ8kQgWDmzz",
        "colab": {
          "base_uri": "https://localhost:8080/"
        },
        "outputId": "a3b34ff3-f9a4-4346-b77d-4da35cffc732"
      },
      "outputs": [
        {
          "output_type": "stream",
          "name": "stdout",
          "text": [
            "[[ 5  7  9 11 13 15 17]\n",
            " [19 21 23 25 27 29 31]\n",
            " [33 35 37 39 41 43 45]\n",
            " [47 49 51 53 55 57 59]]\n"
          ]
        }
      ],
      "source": [
        "mx = np.arange(5, 60, 2).reshape(4, -1)\n",
        "print(mx)"
      ]
    },
    {
      "cell_type": "code",
      "execution_count": null,
      "metadata": {
        "colab": {
          "base_uri": "https://localhost:8080/"
        },
        "id": "aQyN2A6WDnEH",
        "outputId": "3872bbb0-578a-480d-bcee-0580b60daf1b"
      },
      "outputs": [
        {
          "name": "stdout",
          "output_type": "stream",
          "text": [
            "[[ 5  7  9 11 13 15 17]\n",
            " [19 21 23 25 27 29 31]\n",
            " [33 35 37 39 41 43 45]\n",
            " [47 49 51 53 55 57 59]]\n"
          ]
        }
      ],
      "source": []
    },
    {
      "cell_type": "markdown",
      "metadata": {
        "id": "nqN8D5frEdgB"
      },
      "source": [
        "Преку првата матрица пресметајте ги следните барања"
      ]
    },
    {
      "cell_type": "markdown",
      "metadata": {
        "id": "gEFjC0exEBqz"
      },
      "source": [
        "2.1"
      ]
    },
    {
      "cell_type": "code",
      "execution_count": 46,
      "metadata": {
        "id": "yYGSGvwADvZj",
        "colab": {
          "base_uri": "https://localhost:8080/"
        },
        "outputId": "e63e926b-bc3e-4ea3-9813-a9ed0598566d"
      },
      "outputs": [
        {
          "output_type": "stream",
          "name": "stdout",
          "text": [
            "[[33 35 37 39 41]\n",
            " [47 49 51 53 55]]\n"
          ]
        }
      ],
      "source": [
        "b = mx[-2:, :5]\n",
        "print(b)"
      ]
    },
    {
      "cell_type": "code",
      "execution_count": null,
      "metadata": {
        "colab": {
          "base_uri": "https://localhost:8080/"
        },
        "id": "dDZHpynkECsz",
        "outputId": "80f97b88-e98e-4014-9289-62270348be25"
      },
      "outputs": [
        {
          "name": "stdout",
          "output_type": "stream",
          "text": [
            "[[33 35 37 39 41]\n",
            " [47 49 51 53 55]]\n"
          ]
        }
      ],
      "source": []
    },
    {
      "cell_type": "markdown",
      "metadata": {
        "id": "qiKMsYU_EC_s"
      },
      "source": [
        "2.2"
      ]
    },
    {
      "cell_type": "code",
      "execution_count": 47,
      "metadata": {
        "id": "cI4pgdMbEDtj",
        "colab": {
          "base_uri": "https://localhost:8080/"
        },
        "outputId": "40779688-7d7d-4071-f111-27966687a197"
      },
      "outputs": [
        {
          "output_type": "stream",
          "name": "stdout",
          "text": [
            "[[15 17]\n",
            " [29 31]]\n"
          ]
        }
      ],
      "source": [
        "b = mx[:2, -2:]\n",
        "print(b)"
      ]
    },
    {
      "cell_type": "code",
      "execution_count": null,
      "metadata": {
        "colab": {
          "base_uri": "https://localhost:8080/"
        },
        "id": "9m56x4bCED89",
        "outputId": "dd58822f-0df8-4e37-a89c-9b30cace7e4d"
      },
      "outputs": [
        {
          "name": "stdout",
          "output_type": "stream",
          "text": [
            "[[15 17]\n",
            " [29 31]]\n"
          ]
        }
      ],
      "source": []
    },
    {
      "cell_type": "markdown",
      "metadata": {
        "id": "rkwgpnvTEFTD"
      },
      "source": [
        "2.3"
      ]
    },
    {
      "cell_type": "code",
      "execution_count": 48,
      "metadata": {
        "id": "MVXaj4q4EGLr",
        "colab": {
          "base_uri": "https://localhost:8080/"
        },
        "outputId": "8ad240cf-e599-4783-9f6b-7b4c1692414e"
      },
      "outputs": [
        {
          "output_type": "stream",
          "name": "stdout",
          "text": [
            "[19 21 23 25 27 29 31]\n"
          ]
        }
      ],
      "source": [
        "b = mx[1, :]\n",
        "print(b)"
      ]
    },
    {
      "cell_type": "code",
      "execution_count": null,
      "metadata": {
        "colab": {
          "base_uri": "https://localhost:8080/"
        },
        "id": "AOUaJwxQEGoD",
        "outputId": "d09c7593-dbce-440b-a3ca-cf41afceee05"
      },
      "outputs": [
        {
          "name": "stdout",
          "output_type": "stream",
          "text": [
            "[19 21 23 25 27 29 31]\n"
          ]
        }
      ],
      "source": []
    },
    {
      "cell_type": "markdown",
      "metadata": {
        "id": "tJpMMlTeEKyS"
      },
      "source": [
        "2.4 -> sum of all the rows (сума на сите редици)"
      ]
    },
    {
      "cell_type": "code",
      "execution_count": 50,
      "metadata": {
        "id": "j3QcxOhgEPuT",
        "colab": {
          "base_uri": "https://localhost:8080/"
        },
        "outputId": "4506a230-4090-4b2f-ee56-b134e0e5e2cb"
      },
      "outputs": [
        {
          "output_type": "stream",
          "name": "stdout",
          "text": [
            "[ 77 175 273 371]\n"
          ]
        }
      ],
      "source": [
        "suma = np.sum(mx, axis = 1)\n",
        "print(suma)"
      ]
    },
    {
      "cell_type": "markdown",
      "metadata": {
        "id": "H3W4rkoXE79_"
      },
      "source": [
        "2.5"
      ]
    },
    {
      "cell_type": "code",
      "execution_count": 51,
      "metadata": {
        "id": "x41zDeo8E9Hn",
        "colab": {
          "base_uri": "https://localhost:8080/"
        },
        "outputId": "1a33e345-01f6-4fc8-b7ef-16c96a1dc876"
      },
      "outputs": [
        {
          "output_type": "stream",
          "name": "stdout",
          "text": [
            "59\n"
          ]
        }
      ],
      "source": [
        "print(mx[-1, -1])"
      ]
    },
    {
      "cell_type": "code",
      "execution_count": null,
      "metadata": {
        "colab": {
          "base_uri": "https://localhost:8080/"
        },
        "id": "C9qOj3-HE9ag",
        "outputId": "d3413e41-2911-4097-e5b0-c55f6bf6ff18"
      },
      "outputs": [
        {
          "data": {
            "text/plain": [
              "59"
            ]
          },
          "execution_count": 25,
          "metadata": {},
          "output_type": "execute_result"
        }
      ],
      "source": []
    },
    {
      "cell_type": "markdown",
      "metadata": {
        "id": "LHBJQ9UwFNBp"
      },
      "source": [
        "1. Креирајте низа со 15 елементи.\n",
        "2. Извадете ги првите 7 елементи.\n",
        "3. Извадете ги последните 7 елементи.\n",
        "4. Извадете ги елементите кои се наоѓаат помеѓу индексите 11 и 13 (со вклучен елементот на индекс 13)\n",
        "5. Креирајте подниза која како елементи ќе го има секој 3 елемент од првичната низа.\n",
        "6. Креирајте подниза која како елементи ќе го има секој 3 елемент од првичната нзиа, но по обратен редослед.\n",
        "7. Креирајте низа со истите 15 елементи, но по обратен редослед.\n",
        "8. Извадете ги елементите после елементот со индекс 7, но по обратен редослед.\n",
        "9. Извадете ги елементите пред елементот со индекс 4, но по обратен редослед.\n",
        "10. Извадете го секој 3 елемент после индекс 9, но по обратен редослед.\n"
      ]
    },
    {
      "cell_type": "code",
      "execution_count": 16,
      "metadata": {
        "id": "czxkjAbBGBvz",
        "colab": {
          "base_uri": "https://localhost:8080/"
        },
        "outputId": "5b1b087e-96d2-45af-fea5-ea11a69d6d9f"
      },
      "outputs": [
        {
          "output_type": "stream",
          "name": "stdout",
          "text": [
            "[ 0  1  2  3  4  5  6  7  8  9 10 11 12 13 14]\n"
          ]
        }
      ],
      "source": [
        "#1\n",
        "a = np.arange(15)\n",
        "print(a)"
      ]
    },
    {
      "cell_type": "code",
      "execution_count": 53,
      "metadata": {
        "id": "2d68sbDHGDMs",
        "colab": {
          "base_uri": "https://localhost:8080/"
        },
        "outputId": "a76f1daa-9728-41e8-a308-2dac78fab00b"
      },
      "outputs": [
        {
          "output_type": "stream",
          "name": "stdout",
          "text": [
            "[0 1 2 3 4 5 6]\n"
          ]
        }
      ],
      "source": [
        "#2\n",
        "print(a[:7])"
      ]
    },
    {
      "cell_type": "code",
      "execution_count": 54,
      "metadata": {
        "id": "E90xToyLGDqo",
        "colab": {
          "base_uri": "https://localhost:8080/"
        },
        "outputId": "3c553854-3d56-4de8-cb6e-1e4a8fb9c59d"
      },
      "outputs": [
        {
          "output_type": "stream",
          "name": "stdout",
          "text": [
            "[ 8  9 10 11 12 13 14]\n"
          ]
        }
      ],
      "source": [
        "#3\n",
        "print(a[-7:])"
      ]
    },
    {
      "cell_type": "code",
      "execution_count": 55,
      "metadata": {
        "id": "AXp8mjtNGEH8",
        "colab": {
          "base_uri": "https://localhost:8080/"
        },
        "outputId": "c458f069-7c3b-40ce-e90c-0513017bd477"
      },
      "outputs": [
        {
          "output_type": "stream",
          "name": "stdout",
          "text": [
            "[11 12 13]\n"
          ]
        }
      ],
      "source": [
        "#4\n",
        "print(a[11:14])"
      ]
    },
    {
      "cell_type": "code",
      "execution_count": 57,
      "metadata": {
        "id": "vvnkve32GFbH",
        "colab": {
          "base_uri": "https://localhost:8080/"
        },
        "outputId": "825ab5e2-cd62-42dd-9823-3a6d1615880c"
      },
      "outputs": [
        {
          "output_type": "stream",
          "name": "stdout",
          "text": [
            "[ 2  5  8 11 14]\n"
          ]
        }
      ],
      "source": [
        "#5\n",
        "print(a[2::3])"
      ]
    },
    {
      "cell_type": "code",
      "execution_count": 58,
      "metadata": {
        "id": "cD7OTxhWGF3j",
        "colab": {
          "base_uri": "https://localhost:8080/"
        },
        "outputId": "ccc461bf-0442-43a6-a4be-13a7fdd977c9"
      },
      "outputs": [
        {
          "output_type": "stream",
          "name": "stdout",
          "text": [
            "[12  9  6  3  0]\n"
          ]
        }
      ],
      "source": [
        "#6\n",
        "print(a[-3::-3])"
      ]
    },
    {
      "cell_type": "code",
      "execution_count": 59,
      "metadata": {
        "id": "mw7L_lGXGGR_",
        "colab": {
          "base_uri": "https://localhost:8080/"
        },
        "outputId": "68e4bcdc-6503-42fc-b006-84601c93327b"
      },
      "outputs": [
        {
          "output_type": "stream",
          "name": "stdout",
          "text": [
            "[14 13 12 11 10  9  8  7  6  5  4  3  2  1  0]\n"
          ]
        }
      ],
      "source": [
        "#7\n",
        "print(a[::-1])"
      ]
    },
    {
      "cell_type": "code",
      "execution_count": 61,
      "metadata": {
        "id": "OJ8O7pUhGGp_",
        "colab": {
          "base_uri": "https://localhost:8080/"
        },
        "outputId": "3b7c57df-2ac0-4493-98da-e08b9640bc8b"
      },
      "outputs": [
        {
          "output_type": "stream",
          "name": "stdout",
          "text": [
            "[8 7 6 5 4 3 2 1 0]\n"
          ]
        }
      ],
      "source": [
        "#8\n",
        "print(a[7::-1])"
      ]
    },
    {
      "cell_type": "code",
      "execution_count": 62,
      "metadata": {
        "id": "UTDKQcmgGHBF",
        "colab": {
          "base_uri": "https://localhost:8080/"
        },
        "outputId": "2db67d1c-a8ae-4c30-a388-0ac11be4fa2b"
      },
      "outputs": [
        {
          "output_type": "stream",
          "name": "stdout",
          "text": [
            "[14 13 12 11 10  9  8  7  6  5]\n"
          ]
        }
      ],
      "source": [
        "#9\n",
        "print(a[:4:-1])"
      ]
    },
    {
      "cell_type": "code",
      "execution_count": 63,
      "metadata": {
        "id": "eyXpccgyGHme",
        "colab": {
          "base_uri": "https://localhost:8080/"
        },
        "outputId": "07720fee-52c8-4123-d7b5-57cde341a1e3"
      },
      "outputs": [
        {
          "output_type": "stream",
          "name": "stdout",
          "text": [
            "[9 6 3 0]\n"
          ]
        }
      ],
      "source": [
        "#10\n",
        "print(a[9::-3])"
      ]
    },
    {
      "cell_type": "markdown",
      "metadata": {
        "id": "lIPPzRwaGTU6"
      },
      "source": [
        "Креирај нова матрица чии елементи\n",
        "ќе произлезат од други 2 матрици. Во прилог логиката која треба да ја искористите: (Ова е всушност множење на матрици)"
      ]
    },
    {
      "cell_type": "code",
      "execution_count": null,
      "metadata": {
        "colab": {
          "base_uri": "https://localhost:8080/"
        },
        "id": "84GVfgPRGhvs",
        "outputId": "321e92ed-0e35-4061-b8f8-5dfcde0328da"
      },
      "outputs": [
        {
          "name": "stdout",
          "output_type": "stream",
          "text": [
            "A\n",
            " [[2 3]\n",
            " [3 4]]\n",
            "B\n",
            " [[1 1]\n",
            " [1 1]]\n",
            "C\n",
            " [[5 5]\n",
            " [7 7]]\n"
          ]
        }
      ],
      "source": [
        "#c[0][0] = a[0][0]*b[0][0] + a[0][1]*b[1][0]\n",
        "#c[0][1] = a[0][0]*b[0][1] + a[0][1]*b[1][1]\n",
        "#c[1][0] = a[1][0]*b[0][0] + a[1][1]*b[1][0]\n",
        "#c[1][1] = a[1][0]*b[0][1] + a[1][1]*b[1][1]"
      ]
    },
    {
      "cell_type": "code",
      "execution_count": 31,
      "metadata": {
        "id": "-3OMY0s2GIFp",
        "colab": {
          "base_uri": "https://localhost:8080/"
        },
        "outputId": "31a15bb7-1663-484e-c5cd-15b09d573f68"
      },
      "outputs": [
        {
          "output_type": "stream",
          "name": "stdout",
          "text": [
            "A\n",
            " [[2 3]\n",
            " [3 4]]\n",
            "B\n",
            " [[1 1]\n",
            " [1 1]]\n",
            "C\n",
            " [[5 5]\n",
            " [7 7]]\n"
          ]
        }
      ],
      "source": [
        "#resenieto napisete go ovde\n",
        "a = np.array( [[2, 3], [3, 4]])\n",
        "print('A\\n', a)\n",
        "\n",
        "b = np.full((2, 2), 1)\n",
        "print('B\\n', b)\n",
        "\n",
        "c = np.full((2, 2), 0)\n",
        "c[0][0] = a[0][0]*b[0][0] + a[0][1]*b[1][0]\n",
        "c[0][1] = a[0][0]*b[0][1] + a[0][1]*b[1][1]\n",
        "c[1][0] = a[1][0]*b[0][0] + a[1][1]*b[1][0]\n",
        "c[1][1] = a[1][0]*b[0][1] + a[1][1]*b[1][1]\n",
        "print('C\\n', c)"
      ]
    },
    {
      "cell_type": "code",
      "source": [
        "from google.colab import drive\n",
        "drive.mount('/content/drive')"
      ],
      "metadata": {
        "id": "kehPqX3D8afk"
      },
      "execution_count": null,
      "outputs": []
    }
  ],
  "metadata": {
    "colab": {
      "provenance": [],
      "toc_visible": true
    },
    "kernelspec": {
      "display_name": "Python 3 (ipykernel)",
      "language": "python",
      "name": "python3"
    },
    "language_info": {
      "codemirror_mode": {
        "name": "ipython",
        "version": 3
      },
      "file_extension": ".py",
      "mimetype": "text/x-python",
      "name": "python",
      "nbconvert_exporter": "python",
      "pygments_lexer": "ipython3",
      "version": "3.8.10"
    }
  },
  "nbformat": 4,
  "nbformat_minor": 0
}